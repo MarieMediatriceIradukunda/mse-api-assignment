{
 "cells": [
  {
   "cell_type": "code",
   "execution_count": null,
   "id": "abdefaa5",
   "metadata": {},
   "outputs": [],
   "source": [
    "import pandas as pd\n",
    "import numpy as np\n",
    "from pathlib import Path\n",
    "from sqlalchemy import create_engine, text\n",
    "from dotenv import load_dotenv\n",
    "import os"
   ]
  },
  {
   "cell_type": "code",
   "execution_count": null,
   "id": "ea3b2d40",
   "metadata": {},
   "outputs": [],
   "source": [
    "load_dotenv()\n",
    "\n",
    "PGHOST = os.getenv(\"PGHOST\")\n",
    "PGPORT = os.getenv(\"PGPORT\", \"5432\")\n",
    "PGDATABASE = os.getenv(\"PGDATABASE\")\n",
    "PGUSER = os.getenv(\"PGUSER\")\n",
    "PGPASSWORD = os.getenv(\"PGPASSWORD\")"
   ]
  },
  {
   "cell_type": "code",
   "execution_count": null,
   "id": "af835d35",
   "metadata": {},
   "outputs": [],
   "source": [
    "connection_string = (\n",
    "    f\"postgresql+psycopg2://{PGUSER}:{PGPASSWORD}@{PGHOST}:{PGPORT}/{PGDATABASE}\"\n",
    ")"
   ]
  },
  {
   "cell_type": "code",
   "execution_count": null,
   "id": "ecbe7537",
   "metadata": {},
   "outputs": [],
   "source": [
    "DIR_WORKSPACE = Path.cwd().parent.parent\n",
    "DIR_DATA = DIR_WORKSPACE / \"data\"\n",
    "DIR_OUTPUT = DIR_DATA / \"output_combined_data\""
   ]
  },
  {
   "cell_type": "code",
   "execution_count": null,
   "id": "71c9cd91",
   "metadata": {},
   "outputs": [],
   "source": [
    "df = pd.read_csv(DIR_OUTPUT / \"combined_csv.csv\")\n",
    "df.head()"
   ]
  },
  {
   "cell_type": "code",
   "execution_count": null,
   "id": "2e053055",
   "metadata": {},
   "outputs": [],
   "source": [
    "df['counter'].unique()"
   ]
  },
  {
   "cell_type": "code",
   "execution_count": null,
   "id": "987550fb",
   "metadata": {},
   "outputs": [],
   "source": [
    "companies={'AIRTEL':'Airtel Malawi plc', \n",
    "       'BHL':'Blantyre Hotels Plc', \n",
    "       'FDHB':'FDH Bank plc', \n",
    "       'FMBCH':'FMB Capital Holdings plc', \n",
    "       'ICON':'ICON Properties plc',\n",
    "       'ILLOVO':'Illovo Sugar Malawi plc', \n",
    "       'MPICO':'Malawi Property Investment Company plc',\n",
    "       'NBM':'National Bank of Malawi',\n",
    "       'NBS':'NBS Bank plc', \n",
    "       'NICO':'NICO Holdings plc',\n",
    "       'NITL':'National Investment Trust Plc',\n",
    "       'OMU':'Old Mutual Limited', \n",
    "       'PCL':'Press Corporation plc', \n",
    "       'STANDARD':'Standard Bank Malawi plc',\n",
    "       'SUNBIRD':'Sunbird Tourism plc',\n",
    "       'TNM':'Telekom Networks Malawi plc',\n",
    "       'OML':'Old Mutual Limited', \n",
    "       'MPICO CD':'Malawi Property Investment Company plc',\n",
    "       'NBM CD':'National Bank of Malawi', \n",
    "       'NICO CD':'NICO Holdings plc', \n",
    "       'PCL CD':'Press Corporation plc',\n",
    "       'Standard CD':'Standard Bank Malawi plc',\n",
    "       'Sunbird CD':'Sunbird Tourism plc',\n",
    "       'TNM CD':'Telekom Networks Malawi plc', \n",
    "       'MPICO TS':'Malawi Property Investment Company plc', \n",
    "       'BHL CD':'Blantyre Hotels Plc',\n",
    "       'BHL XD':'Blantyre Hotels Plc', \n",
    "       'NITL XD':'National Investment Trust Plc',\n",
    "       'NITL CD':'National Investment Trust Plc',\n",
    "       'NBS TS':'NBS Bank plc', \n",
    "       'NICO TS':'NICO Holdings plc', \n",
    "       'Sunbird':'Sunbird Tourism plc',\n",
    "       'PCL TS':'Press Corporation plc',\n",
    "       'Sunbird H':'Sunbird Tourism plc',\n",
    "       'SUNBIRD H':'Sunbird Tourism plc',\n",
    "       'StandardCD':'Standard Bank Malawi plc', \n",
    "       'SUNBIRDCD':'Sunbird Tourism plc', \n",
    "       'NITL TS':'National Investment Trust Plc',\n",
    "       'SUNBIRD TS':'Sunbird Tourism plc',\n",
    "       'TNM TS':'Telekom Networks Malawi plc',\n",
    "       'NBM XD':'National Bank of Malawi',\n",
    "       'StandardTS':'Standard Bank Malawi plc',\n",
    "       'TNM TS XD':'Telekom Networks Malawi plc', \n",
    "       'TNM TS CD':'Telekom Networks Malawi plc',\n",
    "       'FMB CA':'FMB Capital Holdings plc', \n",
    "       'Sunbird XD':'Sunbird Tourism plc',\n",
    "       'PCL XD':'Press Corporation plc',\n",
    "       'MPICO XD':'Malawi Property Investment Company plc',\n",
    "       'NICO XD':'NICO Holdings plc',\n",
    "       'Standard XD':'Standard Bank Malawi plc',\n",
    "       'TNM XD':'Telekom Networks Malawi plc',\n",
    "       'FMBTS CA XD':'FMB Capital Holdings plc', \n",
    "       'Sunbird TS':'Sunbird Tourism plc',\n",
    "       'FMBTS CA CD':'FMB Capital Holdings plc', \n",
    "       'SunbirdXD TS':'Sunbird Tourism plc',\n",
    "       'SunbirdCD TS':'Sunbird Tourism plc',\n",
    "       'NBS-LA*':'NBS Bank plc'}"
   ]
  },
  {
   "cell_type": "code",
   "execution_count": null,
   "id": "2b983fed",
   "metadata": {},
   "outputs": [],
   "source": [
    "def company_names(row):\n",
    "    return companies[row['counter']].upper()\n",
    "df[\"name\"] = df.apply(company_names, axis=1)\n",
    "df = df.rename(columns={\"counter\": \"ticker\"})\n",
    "df.head()"
   ]
  },
  {
   "cell_type": "code",
   "execution_count": null,
   "id": "56f2d6c4",
   "metadata": {},
   "outputs": [],
   "source": [
    "df_prices = df.copy()\n",
    "df_prices.to_csv(DIR_OUTPUT / \"master_dataset.csv\")\n",
    "df = pd.read_csv(DIR_OUTPUT / \"site_data.csv\")\n",
    "ids = {}\n",
    "for ticker, id in zip(df[\"Company Name\"].values, df[\"ISIN\"].values):\n",
    "    ids[ticker]=id\n",
    "df_prices['counter_id']=df_prices['name'].apply(lambda x:ids[x])\n",
    "\n",
    "prices={}\n",
    "for ticker, price in zip(df['Company Name'].values,df['Listing Price'].values):\n",
    "    prices[ticker]=price\n",
    "df_prices['open_mwk']=df_prices['name'].apply(lambda x:prices[x])\n",
    "\n",
    "# extract only the required fields\n",
    "df_prices = df_prices[\n",
    "    [\n",
    "        \"counter_id\",\n",
    "        \"trade_date\",\n",
    "        \"open_mwk\",\n",
    "        \"daily_range_high\",\n",
    "        \"daily_range_low\",\n",
    "        \"today_closing_price\",\n",
    "        \"volume_traded\",\n",
    "    ]\n",
    "]\n",
    "df_prices.columns = [\n",
    "    \"counter_id\",\n",
    "    \"trade_date\",\n",
    "    \"open_mwk\",\n",
    "    \"high_mwk\",\n",
    "    \"low_mwk\",\n",
    "    \"close_mwk\",\n",
    "    \"volume\",\n",
    "]\n",
    "df_prices[\"volume\"] = df_prices[\"volume\"].astype(float)\n",
    "df_prices[\"trade_date\"] = pd.to_datetime(df_prices[\"trade_date\"])\n",
    "df_prices[\"close_mwk\"] = df_prices[\"close_mwk\"].astype(float)\n",
    "df_prices.head()"
   ]
  },
  {
   "cell_type": "code",
   "execution_count": null,
   "id": "b535d73d",
   "metadata": {},
   "outputs": [],
   "source": []
  },
  {
   "cell_type": "code",
   "execution_count": null,
   "id": "253f2b45",
   "metadata": {},
   "outputs": [],
   "source": [
    "#extract only the required fields\n",
    "df_prices=df_prices[['counter_id','trade_date','open_mwk','daily_range_high', 'daily_range_low','today_closing_price','volume_traded' ]]\n",
    "df_prices.columns=['counter_id','trade_date','open_mwk','high_mwk','low_mwk','close_mwk','volume']"
   ]
  },
  {
   "cell_type": "code",
   "execution_count": null,
   "id": "abe41860",
   "metadata": {},
   "outputs": [],
   "source": [
    "df_prices[df_prices['close_mwk']=='20000(SB)']"
   ]
  },
  {
   "cell_type": "code",
   "execution_count": null,
   "id": "78a1cc7f",
   "metadata": {},
   "outputs": [],
   "source": [
    "df_prices[\"trade_date\"] = pd.to_datetime(df_prices[\"trade_date\"])\n",
    "df_prices['volume']=df_prices['volume'].astype(float)\n",
    "df_prices['close_mwk']=df_prices['close_mwk'].astype(float)\n",
    "df_prices.info()"
   ]
  },
  {
   "cell_type": "code",
   "execution_count": null,
   "id": "672aa874",
   "metadata": {},
   "outputs": [],
   "source": [
    "engine = create_engine(\n",
    "    connection_string,\n",
    "    pool_pre_ping=True,\n",
    ")\n",
    "\n",
    "# Test the connection\n",
    "with engine.connect() as conn:\n",
    "    who = conn.execute(text(\"SELECT current_user, current_database();\")).fetchone()\n",
    "    print(\"Connected as:\", who)"
   ]
  },
  {
   "cell_type": "code",
   "execution_count": null,
   "id": "c9ec863c",
   "metadata": {},
   "outputs": [],
   "source": [
    "engine = create_engine(\n",
    "    connection_string,\n",
    "    pool_pre_ping=True,\n",
    ")\n",
    "# create a table counters\n",
    "query = \"\"\"create table if not exists counters (counter_id text primary key, ticker text not null, name text not null, listing_price real not null, date_listed date not null);\"\"\"\n",
    "with engine.begin() as conn:\n",
    "    conn.execute(text(query))"
   ]
  },
  {
   "cell_type": "code",
   "execution_count": null,
   "id": "80c3cdc3",
   "metadata": {},
   "outputs": [],
   "source": [
    "df = pd.read_csv(DIR_OUTPUT / \"site_data.csv\")\n",
    "df.columns = [\"name\", \"ticker\", \"counter_id\", \"listing_price\", \"date_listed\"]\n",
    "df = df[[\"counter_id\", \"ticker\", \"name\", \"listing_price\", \"date_listed\"]]\n",
    "df[\"date_listed\"] = pd.to_datetime(df[\"date_listed\"]).dt.date\n",
    "df.head()"
   ]
  },
  {
   "cell_type": "code",
   "execution_count": null,
   "id": "0e861dd6",
   "metadata": {},
   "outputs": [],
   "source": [
    "df.to_sql('counters', engine, if_exists='append', index=False)"
   ]
  },
  {
   "cell_type": "code",
   "execution_count": null,
   "id": "cb400092",
   "metadata": {},
   "outputs": [],
   "source": [
    "# Create prices table\n",
    "query=\"\"\"create table if not exists prices (\n",
    "    counter_id text REFERENCES counters(counter_id),\n",
    "    trade_date date,\n",
    "    open_mwk real,\n",
    "    high_mwk real,\n",
    "    low_mwk real,\n",
    "    close_mwk real,\n",
    "    volume real\n",
    "    );\"\"\"\n",
    "with engine.begin() as conn:\n",
    "    conn.execute(text(query))"
   ]
  },
  {
   "cell_type": "code",
   "execution_count": null,
   "id": "5ebac039",
   "metadata": {},
   "outputs": [],
   "source": [
    "df_prices.to_sql('prices', engine, if_exists='append', index=False)"
   ]
  },
  {
   "cell_type": "code",
   "execution_count": null,
   "id": "3ca39e43",
   "metadata": {},
   "outputs": [],
   "source": []
  }
 ],
 "metadata": {
  "kernelspec": {
   "display_name": ".venv",
   "language": "python",
   "name": "python3"
  },
  "language_info": {
   "codemirror_mode": {
    "name": "ipython",
    "version": 3
   },
   "file_extension": ".py",
   "mimetype": "text/x-python",
   "name": "python",
   "nbconvert_exporter": "python",
   "pygments_lexer": "ipython3",
   "version": "3.11.5"
  }
 },
 "nbformat": 4,
 "nbformat_minor": 5
}
